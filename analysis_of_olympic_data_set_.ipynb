{
  "nbformat": 4,
  "nbformat_minor": 0,
  "metadata": {
    "colab": {
      "name": " analysis of olympic data set  .ipynb",
      "provenance": []
    },
    "kernelspec": {
      "name": "python3",
      "display_name": "Python 3"
    },
    "language_info": {
      "name": "python"
    }
  },
  "cells": [
    {
      "cell_type": "code",
      "metadata": {
        "id": "k7N0640dfO0B"
      },
      "source": [
        "import numpy as ny\n",
        "import matplotlib.pyplot as pt\n",
        "import pandas as pd\n",
        "df=pd.read_csv(\"summer.csv\")\n",
        "\n",
        "ab=len(df['City'].unique())\n",
        "print(ab,\" the citiesin which  summer olympics is held so far\")\n",
        "\n",
        "\n",
        "\n",
        "\n",
        "import pandas as pd\n",
        "df=pd.read_csv(\"summer.csv\")\n",
        "\n",
        "gold1=df[df['Medal']  == 'Gold']\n",
        "\n",
        "data = []\n",
        "\n",
        "for Sport in gold1['Sport'].unique():\n",
        "    data.append([Sport , len(gold1[gold1['Sport']  == Sport])])\n",
        "\n",
        "pd.DataFrame(data,columns = ['Sport','Medal']).sort_values(by='Medal', ascending=False).head().plot(x = 'Sport', y = 'Medal', kind = 'bar', figsize = (5,5))"
      ],
      "execution_count": null,
      "outputs": []
    }
  ]
}
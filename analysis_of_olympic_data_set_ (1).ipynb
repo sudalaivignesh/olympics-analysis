{
  "nbformat": 4,
  "nbformat_minor": 0,
  "metadata": {
    "colab": {
      "name": " analysis of olympic data set  .ipynb",
      "provenance": [],
      "collapsed_sections": []
    },
    "kernelspec": {
      "name": "python3",
      "display_name": "Python 3"
    },
    "language_info": {
      "name": "python"
    }
  },
  "cells": [
    {
      "cell_type": "code",
      "metadata": {
        "colab": {
          "base_uri": "https://localhost:8080/"
        },
        "id": "k7N0640dfO0B",
        "outputId": "4a79bfd4-dc8f-45e1-e54f-b08af13f7e64"
      },
      "source": [
        "import numpy as ny\n",
        "import matplotlib.pyplot as pt\n",
        "import pandas as pd\n",
        "df=pd.read_csv(\"olympics.csv\")\n",
        "##1. In how many cities Summer Olympics is held so far?\n",
        "\n",
        "ab=len(df['City'].unique())\n",
        "print(\"number of cities summer olympics is held are\",ab)"
      ],
      "execution_count": 25,
      "outputs": [
        {
          "output_type": "stream",
          "name": "stdout",
          "text": [
            "number of cities summer olympics is held are 22\n"
          ]
        }
      ]
    },
    {
      "cell_type": "code",
      "metadata": {
        "colab": {
          "base_uri": "https://localhost:8080/",
          "height": 501
        },
        "id": "xZk9dQd0jvRU",
        "outputId": "17e157b0-efc6-4ea7-8ea6-76ea6b8f98f3"
      },
      "source": [
        "## 2.Which sport is having most number of Gold Medals so far?(top 5)\n",
        "\n",
        "ba=df[df['Medal']  == 'Gold']\n",
        "\n",
        "cd= []\n",
        "\n",
        "for Sport in ba['Sport'].unique():\n",
        "    cd.append([Sport , len(ba[ba['Sport']  == Sport])])\n",
        "   \n",
        "file_1=pd.DataFrame(cd,columns = ['Sport','Medal']).sort_values(by='Medal', ascending=False).head()\n",
        "q2=ny.array(file_1)\n",
        "print(q2)\n",
        "print(\"the sport that have maximum no. of gold\",q1[0][0],\"=\",q2[0][1])\n",
        "\n",
        "file_1.plot(x = 'Sport', y = 'Medal', kind = 'bar', figsize = (10,5))"
      ],
      "execution_count": 29,
      "outputs": [
        {
          "output_type": "stream",
          "name": "stdout",
          "text": [
            "[['Aquatics' 1421]\n",
            " ['Athletics' 1215]\n",
            " ['Rowing' 890]\n",
            " ['Gymnastics' 820]\n",
            " ['Fencing' 552]]\n",
            "the sport that have maximum no. of gold Aquatics = 1421\n"
          ]
        },
        {
          "output_type": "execute_result",
          "data": {
            "text/plain": [
              "<matplotlib.axes._subplots.AxesSubplot at 0x7f75eb45df90>"
            ]
          },
          "metadata": {},
          "execution_count": 29
        },
        {
          "output_type": "display_data",
          "data": {
            "image/png": "[encoded data removed]",
            "text/plain": [
              "<Figure size 720x360 with 1 Axes>"
            ]
          },
          "metadata": {
            "needs_background": "light"
          }
        }
      ]
    },
    {
      "cell_type": "code",
      "metadata": {
        "colab": {
          "base_uri": "https://localhost:8080/",
          "height": 501
        },
        "id": "yZ2P90BFkhoh",
        "outputId": "32cfb43a-be34-4453-eab6-0407e6b6aa2a"
      },
      "source": [
        "##3. Which sport is having most number of medals so far? (Top 5)\n",
        "\n",
        "ef = []\n",
        "\n",
        "for Sport in df['Sport'].unique():\n",
        "    ef.append([Sport , len(df[df['Sport']  == Sport])])\n",
        "\n",
        "file_2=pd.DataFrame(ef,columns = ['Sport','Medal']).sort_values(by='Medal', ascending=False).head()\n",
        "q3=ny.array(file_2)\n",
        "print(q3)\n",
        "print(\"the sport that have maximum no. of Medal=\",q3[0][0],\"=\",q3[0][1])\n",
        "\n",
        "file_2.plot(x = 'Sport', y = 'Medal', kind = 'bar', figsize = (10,5))"
      ],
      "execution_count": 31,
      "outputs": [
        {
          "output_type": "stream",
          "name": "stdout",
          "text": [
            "[['Aquatics' 4170]\n",
            " ['Athletics' 3638]\n",
            " ['Rowing' 2667]\n",
            " ['Gymnastics' 2307]\n",
            " ['Fencing' 1613]]\n",
            "the sport that have maximum no. of Medal= Aquatics = 4170\n"
          ]
        },
        {
          "output_type": "execute_result",
          "data": {
            "text/plain": [
              "<matplotlib.axes._subplots.AxesSubplot at 0x7f75eb5b52d0>"
            ]
          },
          "metadata": {},
          "execution_count": 31
        },
        {
          "output_type": "display_data",
          "data": {
            "image/png": "[encoded data removed]",
            "text/plain": [
              "<Figure size 720x360 with 1 Axes>"
            ]
          },
          "metadata": {
            "needs_background": "light"
          }
        }
      ]
    },
    {
      "cell_type": "code",
      "metadata": {
        "colab": {
          "base_uri": "https://localhost:8080/",
          "height": 560
        },
        "id": "Lgv1F336nex_",
        "outputId": "131444e6-91e7-449b-ca6f-472b6baf05cf"
      },
      "source": [
        "##4.Which player has won most number of medals? (Top 5)\n",
        "gh= []\n",
        "\n",
        "for Athlete in df['Athlete'].unique():\n",
        "    gh.append([Athlete , len(df[df['Athlete']  == Athlete])])\n",
        "\n",
        "file_3=pd.DataFrame(gh,columns = ['Athlete','Medal']).sort_values(by='Medal', ascending=False).head()\n",
        "q4=ny.array(file_3)\n",
        "print(q4)    \n",
        "\n",
        "\n",
        "print(\"the player who  have maximum no. of Medal=\",q4[0][0],\"=\",q4[0][1])\n",
        "\n",
        "file_3.plot(x = 'Athlete', y = 'Medal', kind = 'bar', figsize = (10,5))"
      ],
      "execution_count": 32,
      "outputs": [
        {
          "output_type": "stream",
          "name": "stdout",
          "text": [
            "[['PHELPS, Michael' 22]\n",
            " ['LATYNINA, Larisa' 18]\n",
            " ['ANDRIANOV, Nikolay' 15]\n",
            " ['ONO, Takashi' 13]\n",
            " ['MANGIAROTTI, Edoardo' 13]]\n",
            "the player who  have maximum no. of Medal= PHELPS, Michael = 22\n"
          ]
        },
        {
          "output_type": "execute_result",
          "data": {
            "text/plain": [
              "<matplotlib.axes._subplots.AxesSubplot at 0x7f75eb4b9590>"
            ]
          },
          "metadata": {},
          "execution_count": 32
        },
        {
          "output_type": "display_data",
          "data": {
            "image/png": "[encoded data removed]",
            "text/plain": [
              "<Figure size 720x360 with 1 Axes>"
            ]
          },
          "metadata": {
            "needs_background": "light"
          }
        }
      ]
    },
    {
      "cell_type": "code",
      "metadata": {
        "colab": {
          "base_uri": "https://localhost:8080/",
          "height": 528
        },
        "id": "MAtCwrHtoZoo",
        "outputId": "824cb37c-a872-4b48-9f47-b8a75a5339c4"
      },
      "source": [
        "##5. Which player has won most number Gold Medals of medals? (Top 5)\n",
        "ij= []\n",
        "k=df[df['Medal']  == 'Gold']\n",
        "\n",
        "for Athlete in k['Athlete'].unique():\n",
        "    ij.append([Athlete , len(k[k['Athlete']  == Athlete])])\n",
        "\n",
        "file_4=pd.DataFrame(ij,columns = ['Athlete','Gold_Medal']).sort_values(by='Gold_Medal', ascending=False).head()\n",
        "q5=ny.array(file_4)\n",
        "print(q5) \n",
        "print(\"the player who have maximum no. of gold=\",q5[0][0],\"=\",q5[0][1])\n",
        "\n",
        "file_4.plot(x = 'Athlete', y = 'Gold_Medal', kind = 'bar', figsize = (10,5))"
      ],
      "execution_count": 33,
      "outputs": [
        {
          "output_type": "stream",
          "name": "stdout",
          "text": [
            "[['PHELPS, Michael' 18]\n",
            " ['SPITZ, Mark' 9]\n",
            " ['LATYNINA, Larisa' 9]\n",
            " ['LEWIS, Carl' 9]\n",
            " ['NURMI, Paavo' 9]]\n",
            "the player who have maximum no. of gold= PHELPS, Michael = 18\n"
          ]
        },
        {
          "output_type": "execute_result",
          "data": {
            "text/plain": [
              "<matplotlib.axes._subplots.AxesSubplot at 0x7f75eb4f0690>"
            ]
          },
          "metadata": {},
          "execution_count": 33
        },
        {
          "output_type": "display_data",
          "data": {
            "image/png": "[encoded data removed]",
            "text/plain": [
              "<Figure size 360x360 with 1 Axes>"
            ]
          },
          "metadata": {
            "needs_background": "light"
          }
        }
      ]
    },
    {
      "cell_type": "code",
      "metadata": {
        "colab": {
          "base_uri": "https://localhost:8080/"
        },
        "id": "mKHM-cX7pmjm",
        "outputId": "a747d430-cce0-4da7-b690-8255eb6c9754"
      },
      "source": [
        "##In which year India won first Gold Medal in Summer Olympics?\n",
        "lm=df[df['Medal']  == 'Gold']\n",
        "n=lm[lm['Country']  == 'IND']\n",
        "year=n['Year'].unique()\n",
        "print('In the year :',year.min(),' India won first Gold Medal in Olympics')"
      ],
      "execution_count": 16,
      "outputs": [
        {
          "output_type": "stream",
          "name": "stdout",
          "text": [
            "In the year : 1928  India won first Gold Medal in Olympics\n"
          ]
        }
      ]
    },
    {
      "cell_type": "code",
      "metadata": {
        "colab": {
          "base_uri": "https://localhost:8080/",
          "height": 533
        },
        "id": "E6x2aL3LqkpG",
        "outputId": "b0c8f68a-b47a-465f-aa76-d55a7292894a"
      },
      "source": [
        "##7. Which event is most popular in terms on number of players? (Top 5)\n",
        "op= []\n",
        "\n",
        "for Event in df['Event'].unique():\n",
        "    op.append([Event , len(df[df['Event']  == Event])])\n",
        "file_5=pd.DataFrame(op,columns = ['Event','popular']).sort_values(by='popular', ascending=False).head()\n",
        "q7=ny.array(file_5)\n",
        "print(q7)\n",
        "print(\" the event  most popular in terms on number of players is \",q7[0][0])\n",
        "\n",
        "file_5.plot(x = 'Event', y = 'popular', kind = 'bar', figsize = (10,5))"
      ],
      "execution_count": 34,
      "outputs": [
        {
          "output_type": "stream",
          "name": "stdout",
          "text": [
            "[['Football' 1497]\n",
            " ['Hockey' 1422]\n",
            " ['Team Competition' 1147]\n",
            " ['Basketball' 1012]\n",
            " ['Handball' 973]]\n",
            " the event  most popular in terms on number of players is  Football\n"
          ]
        },
        {
          "output_type": "execute_result",
          "data": {
            "text/plain": [
              "<matplotlib.axes._subplots.AxesSubplot at 0x7f75e601b810>"
            ]
          },
          "metadata": {},
          "execution_count": 34
        },
        {
          "output_type": "display_data",
          "data": {
            "image/png": "[encoded data removed]",
            "text/plain": [
              "<Figure size 720x360 with 1 Axes>"
            ]
          },
          "metadata": {
            "needs_background": "light"
          }
        }
      ]
    },
    {
      "cell_type": "code",
      "metadata": {
        "colab": {
          "base_uri": "https://localhost:8080/",
          "height": 501
        },
        "id": "v3k99AsIrTcq",
        "outputId": "8c0ac8ed-ea0f-4899-ad2b-9553fcb8b1a7"
      },
      "source": [
        "##8. Which sport is having most female Gold Medalists? (Top 5)\n",
        "rs= []\n",
        "t=df[df['Gender']  == 'Women']\n",
        "u=t[t['Medal']  == 'Gold']\n",
        "\n",
        "for Sport in u['Sport'].unique():\n",
        "    rs.append([Sport , len(u[u['Sport']  == Sport])])\n",
        "file_6=pd.DataFrame(rs,columns = ['Sport','Medal']).sort_values(by='Medal', ascending=False).head()\n",
        "q8=ny.array(file_6)\n",
        "print(q8)\n",
        "print(q8[0][0],\" is having most female Gold Medalists\")\n",
        "\n",
        "file_6.plot(x = 'Sport', y = 'Medal', kind = 'bar', figsize = (10,5))"
      ],
      "execution_count": 24,
      "outputs": [
        {
          "output_type": "stream",
          "name": "stdout",
          "text": [
            "[['Aquatics' 589]\n",
            " ['Athletics' 389]\n",
            " ['Gymnastics' 268]\n",
            " ['Rowing' 217]\n",
            " ['Volleyball' 166]]\n",
            "Aquatics  is having most female Gold Medalists\n"
          ]
        },
        {
          "output_type": "execute_result",
          "data": {
            "text/plain": [
              "<matplotlib.axes._subplots.AxesSubplot at 0x7f75e60679d0>"
            ]
          },
          "metadata": {},
          "execution_count": 24
        },
        {
          "output_type": "display_data",
          "data": {
            "image/png": "[encoded data removed]",
            "text/plain": [
              "<Figure size 720x360 with 1 Axes>"
            ]
          },
          "metadata": {
            "needs_background": "light"
          }
        }
      ]
    },
    {
      "cell_type": "code",
      "metadata": {
        "id": "e7860EkMuJEV"
      },
      "source": [
        ""
      ],
      "execution_count": null,
      "outputs": []
    }
  ]
}